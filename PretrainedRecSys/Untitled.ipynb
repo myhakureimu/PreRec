{
 "cells": [
  {
   "cell_type": "code",
   "execution_count": null,
   "id": "fa2f9ba5-6660-4aa6-a179-a29041f23957",
   "metadata": {},
   "outputs": [],
   "source": []
  },
  {
   "cell_type": "code",
   "execution_count": 3,
   "id": "421790b2-e5c5-441d-a638-0390b91b2adc",
   "metadata": {},
   "outputs": [
    {
     "name": "stdout",
     "output_type": "stream",
     "text": [
      "load data from multiple domains\n",
      "**********   0  --  jp   **********\n",
      "# of item =  22591\n",
      "# of user =  277570\n",
      "**********   1  --  in   **********\n",
      "# of item =  45893\n",
      "# of user =  507581\n",
      "**********   2  --  es   **********\n",
      "# of item =  39675\n",
      "# of user =  400883\n",
      "**********   3  --  ca   **********\n",
      "# of item =  99376\n",
      "# of user =  992366\n",
      "seen_only\n",
      "au\n"
     ]
    },
    {
     "name": "stderr",
     "output_type": "stream",
     "text": [
      "100%|██████████| 86975/86975 [00:00<00:00, 424870.80it/s]\n"
     ]
    },
    {
     "name": "stdout",
     "output_type": "stream",
     "text": [
      "112244 13867\n",
      "fr\n"
     ]
    },
    {
     "name": "stderr",
     "output_type": "stream",
     "text": [
      "100%|██████████| 502014/502014 [00:00<00:00, 622156.20it/s]\n"
     ]
    },
    {
     "name": "stdout",
     "output_type": "stream",
     "text": [
      "422023 15175\n",
      "it\n"
     ]
    },
    {
     "name": "stderr",
     "output_type": "stream",
     "text": [
      "100%|██████████| 591252/591252 [00:00<00:00, 604788.09it/s]\n"
     ]
    },
    {
     "name": "stdout",
     "output_type": "stream",
     "text": [
      "563599 17603\n",
      "uk\n"
     ]
    },
    {
     "name": "stderr",
     "output_type": "stream",
     "text": [
      "100%|██████████| 2498812/2498812 [00:04<00:00, 534647.47it/s]\n"
     ]
    },
    {
     "name": "stdout",
     "output_type": "stream",
     "text": [
      "3119140 316165\n"
     ]
    }
   ],
   "source": [
    "from DataLoader import get_myDataLoader, from_asin2idx_to_idx2asin\n",
    "from tqdm import tqdm\n",
    "import pickle\n",
    "import gzip\n",
    "\n",
    "seen_domain_list = ['jp','in','es','ca']\n",
    "\n",
    "zero_domain_list = ['au','fr','it','uk']\n",
    "\n",
    "dataloaders = get_myDataLoader(seen_domain_list, db = 1, n_neg = 7, truncate = 4, bs = 2, pop_type='pop1', device = 'cuda', seen_only=True)\n",
    "\n",
    "seen_asin2_ = dict.fromkeys(dataloaders['seen_asin'])\n",
    "seen_user2_ = dict.fromkeys(dataloaders['seen_user'])\n",
    "\n",
    "del dataloaders\n",
    "\n",
    "\n",
    "def overlap_count(seen_asin2_, seen_user2_, domainStr):\n",
    "#if 1:\n",
    "    print(domainStr)\n",
    "    #domainStr='au'\n",
    "    count_seen = 0\n",
    "    count_unseen = 0\n",
    "    \n",
    "    data_file = 'CrossMarket/processed/'+domainStr+'_data_filtered.pickle'\n",
    "    #dayItemPop_file = 'CrossMarket/processed/'+domainStr+'_day_item_'+pop_type+'.pt'\n",
    "    interaction_file = 'CrossMarket/processed/'+domainStr+'_interaction_seq.pklz'\n",
    "        \n",
    "    with open(data_file, 'rb') as handle:\n",
    "        itemInfo = pickle.load(handle)['training_info']['asin']\n",
    "        itemAsin2itemIdx = itemInfo['mapping']\n",
    "        itemIdx2itemAsin = from_asin2idx_to_idx2asin(itemAsin2itemIdx)\n",
    "        A2I = itemAsin2itemIdx\n",
    "        I2A = itemIdx2itemAsin\n",
    "\n",
    "        \n",
    "    with gzip.open(interaction_file, 'rb') as ifp:\n",
    "        List_seqDict = pickle.load(ifp)\n",
    "        \n",
    "        for seqDict in tqdm(List_seqDict):\n",
    "            user = seqDict['user'] \n",
    "            for index in seqDict['seq'][1:]:\n",
    "                asin = I2A[index]\n",
    "                #print('user ', user)\n",
    "                #print('asin ', asin)\n",
    "                if (user in seen_user2_) or (asin in seen_asin2_):\n",
    "                    count_seen += 1\n",
    "                else:\n",
    "                    count_unseen += 1\n",
    "    \n",
    "    print(count_seen, count_unseen)\n",
    "    \n",
    "for domain in zero_domain_list:\n",
    "    overlap_count(seen_asin2_, seen_user2_, domain)"
   ]
  },
  {
   "cell_type": "code",
   "execution_count": null,
   "id": "deafbafa-0a38-4260-b829-031dbea36848",
   "metadata": {},
   "outputs": [],
   "source": []
  }
 ],
 "metadata": {
  "kernelspec": {
   "display_name": "conda_pytorch_p38",
   "language": "python",
   "name": "conda_pytorch_p38"
  },
  "language_info": {
   "codemirror_mode": {
    "name": "ipython",
    "version": 3
   },
   "file_extension": ".py",
   "mimetype": "text/x-python",
   "name": "python",
   "nbconvert_exporter": "python",
   "pygments_lexer": "ipython3",
   "version": "3.8.12"
  }
 },
 "nbformat": 4,
 "nbformat_minor": 5
}
